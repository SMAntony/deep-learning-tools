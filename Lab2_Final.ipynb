{
  "nbformat": 4,
  "nbformat_minor": 0,
  "metadata": {
    "colab": {
      "name": "Lab2-Final",
      "provenance": [],
      "authorship_tag": "ABX9TyPfzAYJCVgegpu3BfD1RTdm",
      "include_colab_link": true
    },
    "kernelspec": {
      "name": "python3",
      "display_name": "Python 3"
    },
    "language_info": {
      "name": "python"
    },
    "accelerator": "GPU"
  },
  "cells": [
    {
      "cell_type": "markdown",
      "metadata": {
        "id": "view-in-github",
        "colab_type": "text"
      },
      "source": [
        "<a href=\"https://colab.research.google.com/github/SMAntony/deep-learning-tools/blob/main/Lab2_Final.ipynb\" target=\"_parent\"><img src=\"https://colab.research.google.com/assets/colab-badge.svg\" alt=\"Open In Colab\"/></a>"
      ]
    },
    {
      "cell_type": "code",
      "execution_count": null,
      "metadata": {
        "id": "poWLGNEHMsIY"
      },
      "outputs": [],
      "source": [
        "import tensorflow as tf\n",
        "import pandas as pd\n",
        "import numpy as np\n",
        "import matplotlib.pyplot as plt\n",
        "import scipy.io\n",
        "import os"
      ]
    },
    {
      "cell_type": "code",
      "source": [
        "url = \"https://data.vision.ee.ethz.ch/cvl/rrothe/imdb-wiki/static/wiki_crop.tar\"\n",
        "\n",
        "dataset = tf.keras.utils.get_file(\n",
        "    \"wiki_crop\", url,\n",
        "    untar=True, cache_dir='.',\n",
        "    cache_subdir=''\n",
        ")\n",
        "dataset_dir = os.path.join(os.path.dirname(dataset), 'wiki_crop')"
      ],
      "metadata": {
        "colab": {
          "base_uri": "https://localhost:8080/"
        },
        "id": "f0pciLRLwyq2",
        "outputId": "49df0734-8468-424e-856f-39386766f59d"
      },
      "execution_count": null,
      "outputs": [
        {
          "output_type": "stream",
          "name": "stdout",
          "text": [
            "Downloading data from https://data.vision.ee.ethz.ch/cvl/rrothe/imdb-wiki/static/wiki_crop.tar\n",
            "811319296/811315200 [==============================] - 34s 0us/step\n",
            "811327488/811315200 [==============================] - 34s 0us/step\n"
          ]
        }
      ]
    },
    {
      "cell_type": "code",
      "source": [
        "wikiMat = scipy.io.loadmat(\"/content/wiki_crop/wiki.mat\")"
      ],
      "metadata": {
        "id": "OBkNih7WN4FV"
      },
      "execution_count": null,
      "outputs": []
    },
    {
      "cell_type": "code",
      "source": [
        "wikiPlace = wikiMat['wiki'][0][0]\n",
        "print(len(wikiPlace))\n",
        "for item in wikiPlace:\n",
        "  print(item)\n",
        "  print(len(item[0]))"
      ],
      "metadata": {
        "colab": {
          "base_uri": "https://localhost:8080/"
        },
        "id": "x7KBBR2LTOH6",
        "outputId": "53986772-9ffb-4473-dc08-69cdc35a3da5"
      },
      "execution_count": null,
      "outputs": [
        {
          "output_type": "stream",
          "name": "stdout",
          "text": [
            "8\n",
            "[[723671 703186 711677 ... 720620 723893 713846]]\n",
            "62328\n",
            "[[2009 1964 2008 ... 2013 2011 2008]]\n",
            "62328\n",
            "[[array(['17/10000217_1981-05-05_2009.jpg'], dtype='<U31')\n",
            "  array(['48/10000548_1925-04-04_1964.jpg'], dtype='<U31')\n",
            "  array(['12/100012_1948-07-03_2008.jpg'], dtype='<U29') ...\n",
            "  array(['09/9998109_1972-12-27_2013.jpg'], dtype='<U30')\n",
            "  array(['00/9999400_1981-12-13_2011.jpg'], dtype='<U30')\n",
            "  array(['80/999980_1954-06-11_2008.jpg'], dtype='<U29')]]\n",
            "62328\n",
            "[[1. 1. 1. ... 1. 1. 0.]]\n",
            "62328\n",
            "[[array(['Sami Jauhojärvi'], dtype='<U15')\n",
            "  array(['Dettmar Cramer'], dtype='<U14')\n",
            "  array(['Marc Okrand'], dtype='<U11') ...\n",
            "  array(['Michael Wiesinger'], dtype='<U17')\n",
            "  array(['Johann Grugger'], dtype='<U14')\n",
            "  array(['Greta Van Susteren'], dtype='<U18')]]\n",
            "62328\n",
            "[[array([[111.29109473, 111.29109473, 252.66993082, 252.66993082]])\n",
            "  array([[252.4833023 , 126.68165115, 354.53192596, 228.73027481]])\n",
            "  array([[113.52, 169.84, 366.08, 422.4 ]]) ...\n",
            "  array([[169.88839786,  74.31669472, 235.2534231 , 139.68171997]])\n",
            "  array([[1, 1, 1, 1]], dtype=uint8)\n",
            "  array([[ 92.72633235,  62.0435549 , 230.12083087, 199.43805342]])]]\n",
            "62328\n",
            "[[4.30096239 2.6456395  4.32932883 ... 3.49430317       -inf 5.48691655]]\n",
            "62328\n",
            "[[       nan 1.94924791        nan ...        nan        nan        nan]]\n",
            "62328\n"
          ]
        }
      ]
    },
    {
      "cell_type": "code",
      "source": [
        "wikiMat['wiki'].dtype.names"
      ],
      "metadata": {
        "colab": {
          "base_uri": "https://localhost:8080/"
        },
        "id": "BSt6GZGlXsSH",
        "outputId": "4cf3027b-c3af-491b-9ea6-4a14c813f504"
      },
      "execution_count": null,
      "outputs": [
        {
          "output_type": "execute_result",
          "data": {
            "text/plain": [
              "('dob',\n",
              " 'photo_taken',\n",
              " 'full_path',\n",
              " 'gender',\n",
              " 'name',\n",
              " 'face_location',\n",
              " 'face_score',\n",
              " 'second_face_score')"
            ]
          },
          "metadata": {},
          "execution_count": 5
        }
      ]
    },
    {
      "cell_type": "code",
      "source": [
        "if any(np.isnan(wikiMat['wiki']['gender'][0][0][0])):\n",
        "  remove_nan = np.where(np.isnan(wikiMat['wiki']['gender'][0][0][0])==False)[0]\n",
        "gender = wikiMat['wiki']['gender'][0][0][0][remove_nan]\n",
        "\n",
        "file_path = np.vectorize(lambda x : os.path.join(dataset_dir,x[0]))\n",
        "file_path = file_path(wikiMat[\"wiki\"][\"full_path\"][0][0][0][remove_nan])"
      ],
      "metadata": {
        "id": "DVC_2WNHYWVq"
      },
      "execution_count": null,
      "outputs": []
    },
    {
      "cell_type": "code",
      "source": [
        "file_path"
      ],
      "metadata": {
        "colab": {
          "base_uri": "https://localhost:8080/"
        },
        "id": "S6dAcmA3qxZB",
        "outputId": "9de800f2-225b-450b-cdf4-d81bbd165fe8"
      },
      "execution_count": null,
      "outputs": [
        {
          "output_type": "execute_result",
          "data": {
            "text/plain": [
              "array(['./wiki_crop/17/10000217_1981-05-05_2009.jpg',\n",
              "       './wiki_crop/48/10000548_1925-04-04_1964.jpg',\n",
              "       './wiki_crop/12/100012_1948-07-03_2008.jpg', ...,\n",
              "       './wiki_crop/09/9998109_1972-12-27_2013.jpg',\n",
              "       './wiki_crop/00/9999400_1981-12-13_2011.jpg',\n",
              "       './wiki_crop/80/999980_1954-06-11_2008.jpg'], dtype='<U49')"
            ]
          },
          "metadata": {},
          "execution_count": 7
        }
      ]
    },
    {
      "cell_type": "code",
      "source": [
        "file_gender_ds = tf.data.Dataset.from_tensor_slices((file_path,gender))\n",
        "\n",
        "def parse_function(filename, label):\n",
        "    image_string = tf.io.read_file(filename)\n",
        "    image_decoded = tf.io.decode_jpeg(image_string,channels=1)\n",
        "    image = tf.image.resize(image_decoded, [256, 256])/256\n",
        "    return image, tf.expand_dims(label,0)\n",
        "\n",
        "img_gender_ds = file_gender_ds.map(parse_function).shuffle(seed=2,buffer_size=64)"
      ],
      "metadata": {
        "id": "VlrgQ4eJgWpz"
      },
      "execution_count": null,
      "outputs": []
    },
    {
      "cell_type": "code",
      "source": [
        "next(file_gender_ds.as_numpy_iterator())"
      ],
      "metadata": {
        "colab": {
          "base_uri": "https://localhost:8080/"
        },
        "id": "cqh2Qw7qssTm",
        "outputId": "99084959-6015-4c1b-8d95-9fa3a30b2c3f"
      },
      "execution_count": null,
      "outputs": [
        {
          "output_type": "execute_result",
          "data": {
            "text/plain": [
              "(b'./wiki_crop/17/10000217_1981-05-05_2009.jpg', 1.0)"
            ]
          },
          "metadata": {},
          "execution_count": 9
        }
      ]
    },
    {
      "cell_type": "code",
      "source": [
        "!ls datasets\n"
      ],
      "metadata": {
        "colab": {
          "base_uri": "https://localhost:8080/"
        },
        "id": "_Mmnxsuws_PN",
        "outputId": "2079220e-7103-49b5-c9e5-b80f7317fa4f"
      },
      "execution_count": null,
      "outputs": [
        {
          "output_type": "stream",
          "name": "stdout",
          "text": [
            "ls: cannot access 'datasets': No such file or directory\n"
          ]
        }
      ]
    },
    {
      "cell_type": "code",
      "source": [
        "len(img_gender_ds)"
      ],
      "metadata": {
        "colab": {
          "base_uri": "https://localhost:8080/"
        },
        "id": "ORLs4Kd7hKC5",
        "outputId": "9144bbeb-9c18-4432-9d01-152d26855b39"
      },
      "execution_count": null,
      "outputs": [
        {
          "output_type": "execute_result",
          "data": {
            "text/plain": [
              "59685"
            ]
          },
          "metadata": {},
          "execution_count": 11
        }
      ]
    },
    {
      "cell_type": "code",
      "source": [
        "dataset_size = img_gender_ds.cardinality().numpy()\n",
        "print(dataset_size)"
      ],
      "metadata": {
        "colab": {
          "base_uri": "https://localhost:8080/"
        },
        "id": "_snplmi_hcvY",
        "outputId": "6ac7ed77-55aa-4781-87df-ae0fb89a3d33"
      },
      "execution_count": null,
      "outputs": [
        {
          "output_type": "stream",
          "name": "stdout",
          "text": [
            "59685\n"
          ]
        }
      ]
    },
    {
      "cell_type": "code",
      "source": [
        "AUTOTUNE = tf.data.AUTOTUNE\n",
        "train_ds = img_gender_ds.take(dataset_size*.6).batch(128).prefetch(AUTOTUNE)\n",
        "val_ds = img_gender_ds.skip(dataset_size*.6).take(dataset_size*.2).batch(128).prefetch(AUTOTUNE)\n",
        "test_ds = img_gender_ds.skip(dataset_size*.8).take(dataset_size*.2).batch(128).prefetch(AUTOTUNE)"
      ],
      "metadata": {
        "id": "jCNV9tPxh_do"
      },
      "execution_count": null,
      "outputs": []
    },
    {
      "cell_type": "code",
      "source": [
        "train_ds"
      ],
      "metadata": {
        "colab": {
          "base_uri": "https://localhost:8080/"
        },
        "id": "UCDaupBoV5T4",
        "outputId": "9546947c-fd44-4fd2-8812-1e7ad3350f7d"
      },
      "execution_count": null,
      "outputs": [
        {
          "output_type": "execute_result",
          "data": {
            "text/plain": [
              "<PrefetchDataset element_spec=(TensorSpec(shape=(None, 256, 256, 1), dtype=tf.float32, name=None), TensorSpec(shape=(None, 1), dtype=tf.float64, name=None))>"
            ]
          },
          "metadata": {},
          "execution_count": 14
        }
      ]
    },
    {
      "cell_type": "code",
      "source": [
        "model = tf.keras.Sequential([\n",
        "    tf.keras.layers.Conv2D(32,(5,5),padding=\"same\",activation=\"relu\",input_shape=(256,256,1)),\n",
        "    tf.keras.layers.MaxPool2D((4,4),strides = 2),\n",
        "    tf.keras.layers.Conv2D(32,(5,5),padding = \"valid\",activation=\"relu\"),\n",
        "    tf.keras.layers.MaxPool2D((4,4),strides = 4),\n",
        "    tf.keras.layers.Conv2D(64,(5,5),padding = \"valid\",activation=\"relu\"),\n",
        "    tf.keras.layers.MaxPool2D((4,4),strides = 2),\n",
        "    tf.keras.layers.Conv2D(128,(3,3),padding= \"valid\",activation=\"relu\",),\n",
        "    tf.keras.layers.MaxPool2D((2,2),strides = 2),\n",
        "    tf.keras.layers.Conv2D(256,(1,1),padding= \"valid\",activation=\"relu\",),\n",
        "    tf.keras.layers.MaxPool2D((2,2),strides = 2),\n",
        "    tf.keras.layers.Flatten(),\n",
        "    tf.keras.layers.Dense(64,activation=\"relu\"),\n",
        "    tf.keras.layers.Dense(1)                             \n",
        "])"
      ],
      "metadata": {
        "id": "UDGLcUhriLuB"
      },
      "execution_count": null,
      "outputs": []
    },
    {
      "cell_type": "code",
      "source": [
        "model.compile(\n",
        "    optimizer=tf.keras.optimizers.Adam(0.001),\n",
        "    loss=tf.keras.losses.BinaryCrossentropy(from_logits=True),\n",
        "    metrics=['accuracy']\n",
        "    )\n",
        "\n",
        "model.summary()"
      ],
      "metadata": {
        "colab": {
          "base_uri": "https://localhost:8080/"
        },
        "id": "FiydH0U4i1d7",
        "outputId": "a9fb9534-ab03-4a48-9bad-5bc92938f672"
      },
      "execution_count": null,
      "outputs": [
        {
          "output_type": "stream",
          "name": "stdout",
          "text": [
            "Model: \"sequential\"\n",
            "_________________________________________________________________\n",
            " Layer (type)                Output Shape              Param #   \n",
            "=================================================================\n",
            " conv2d (Conv2D)             (None, 256, 256, 32)      832       \n",
            "                                                                 \n",
            " max_pooling2d (MaxPooling2D  (None, 127, 127, 32)     0         \n",
            " )                                                               \n",
            "                                                                 \n",
            " conv2d_1 (Conv2D)           (None, 123, 123, 32)      25632     \n",
            "                                                                 \n",
            " max_pooling2d_1 (MaxPooling  (None, 30, 30, 32)       0         \n",
            " 2D)                                                             \n",
            "                                                                 \n",
            " conv2d_2 (Conv2D)           (None, 26, 26, 64)        51264     \n",
            "                                                                 \n",
            " max_pooling2d_2 (MaxPooling  (None, 12, 12, 64)       0         \n",
            " 2D)                                                             \n",
            "                                                                 \n",
            " conv2d_3 (Conv2D)           (None, 10, 10, 128)       73856     \n",
            "                                                                 \n",
            " max_pooling2d_3 (MaxPooling  (None, 5, 5, 128)        0         \n",
            " 2D)                                                             \n",
            "                                                                 \n",
            " conv2d_4 (Conv2D)           (None, 5, 5, 256)         33024     \n",
            "                                                                 \n",
            " max_pooling2d_4 (MaxPooling  (None, 2, 2, 256)        0         \n",
            " 2D)                                                             \n",
            "                                                                 \n",
            " flatten (Flatten)           (None, 1024)              0         \n",
            "                                                                 \n",
            " dense (Dense)               (None, 64)                65600     \n",
            "                                                                 \n",
            " dense_1 (Dense)             (None, 1)                 65        \n",
            "                                                                 \n",
            "=================================================================\n",
            "Total params: 250,273\n",
            "Trainable params: 250,273\n",
            "Non-trainable params: 0\n",
            "_________________________________________________________________\n"
          ]
        }
      ]
    },
    {
      "cell_type": "code",
      "source": [
        "history=model.fit(\n",
        "    train_ds,\n",
        "    validation_data=val_ds,\n",
        "    epochs=10\n",
        ")"
      ],
      "metadata": {
        "colab": {
          "base_uri": "https://localhost:8080/"
        },
        "id": "Hd8GK0X1jL-0",
        "outputId": "6dc7600f-98a0-4905-91e6-75f0c9fa2cef"
      },
      "execution_count": null,
      "outputs": [
        {
          "output_type": "stream",
          "name": "stdout",
          "text": [
            "Epoch 1/10\n",
            "280/280 [==============================] - 95s 287ms/step - loss: 0.5051 - accuracy: 0.7760 - val_loss: 0.4733 - val_accuracy: 0.7974\n",
            "Epoch 2/10\n",
            "280/280 [==============================] - 78s 279ms/step - loss: 0.4499 - accuracy: 0.8015 - val_loss: 0.4368 - val_accuracy: 0.8113\n",
            "Epoch 3/10\n",
            "280/280 [==============================] - 79s 282ms/step - loss: 0.4055 - accuracy: 0.8245 - val_loss: 0.3735 - val_accuracy: 0.8366\n",
            "Epoch 4/10\n",
            "280/280 [==============================] - 78s 280ms/step - loss: 0.3395 - accuracy: 0.8620 - val_loss: 0.3189 - val_accuracy: 0.8772\n",
            "Epoch 5/10\n",
            "280/280 [==============================] - 78s 279ms/step - loss: 0.3004 - accuracy: 0.8820 - val_loss: 0.3044 - val_accuracy: 0.8824\n",
            "Epoch 6/10\n",
            "280/280 [==============================] - 79s 280ms/step - loss: 0.2789 - accuracy: 0.8910 - val_loss: 0.3060 - val_accuracy: 0.8876\n",
            "Epoch 7/10\n",
            "280/280 [==============================] - 78s 279ms/step - loss: 0.2614 - accuracy: 0.8988 - val_loss: 0.3116 - val_accuracy: 0.8886\n",
            "Epoch 8/10\n",
            "280/280 [==============================] - 79s 283ms/step - loss: 0.2490 - accuracy: 0.9027 - val_loss: 0.3303 - val_accuracy: 0.8885\n",
            "Epoch 9/10\n",
            "280/280 [==============================] - 78s 278ms/step - loss: 0.2340 - accuracy: 0.9091 - val_loss: 0.3269 - val_accuracy: 0.8867\n",
            "Epoch 10/10\n",
            "280/280 [==============================] - 78s 278ms/step - loss: 0.2206 - accuracy: 0.9147 - val_loss: 0.3344 - val_accuracy: 0.8837\n"
          ]
        }
      ]
    },
    {
      "cell_type": "code",
      "source": [
        "history = history.history\n",
        "\n",
        "plt.figure(figsize=(15,5))\n",
        "plt.subplot(121)\n",
        "plt.title(\"Accuracy\")\n",
        "plt.plot(history[\"accuracy\"],label=\"train acc\")\n",
        "plt.plot(history[\"val_accuracy\"],label=\"val acc\")\n",
        "plt.legend()\n",
        "\n",
        "plt.subplot(122)\n",
        "plt.title(\"Loss\")\n",
        "plt.plot(history[\"loss\"],label=\"train loss\")\n",
        "plt.plot(history[\"val_loss\"],label=\"val loss\")\n",
        "plt.legend()\n",
        "\n",
        "plt.show()"
      ],
      "metadata": {
        "id": "IP0XhHnOmRe3",
        "colab": {
          "base_uri": "https://localhost:8080/",
          "height": 326
        },
        "outputId": "e60c8740-20c7-42e8-b036-e1f1034a0d59"
      },
      "execution_count": null,
      "outputs": [
        {
          "output_type": "display_data",
          "data": {
            "text/plain": [
              "<Figure size 1080x360 with 2 Axes>"
            ],
            "image/png": "[encoded data removed]"
          },
          "metadata": {
            "needs_background": "light"
          }
        }
      ]
    },
    {
      "cell_type": "code",
      "source": [
        "loss, accuracy = model.evaluate(test_ds)\n",
        "\n",
        "print(\"Loss: \", loss)\n",
        "print(\"Accuracy: \", accuracy)"
      ],
      "metadata": {
        "id": "7zw0wMKrmW8z",
        "colab": {
          "base_uri": "https://localhost:8080/"
        },
        "outputId": "e4a3f038-a409-4331-9839-0ec35aac277b"
      },
      "execution_count": null,
      "outputs": [
        {
          "output_type": "stream",
          "name": "stdout",
          "text": [
            "94/94 [==============================] - 35s 100ms/step - loss: 0.3327 - accuracy: 0.8825\n",
            "Loss:  0.33271944522857666\n",
            "Accuracy:  0.8824662566184998\n"
          ]
        }
      ]
    },
    {
      "cell_type": "markdown",
      "source": [
        ""
      ],
      "metadata": {
        "id": "9ZieJJCliRdK"
      }
    }
  ]
}