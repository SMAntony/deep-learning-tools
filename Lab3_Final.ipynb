{
  "nbformat": 4,
  "nbformat_minor": 0,
  "metadata": {
    "colab": {
      "name": "Lab3-Final",
      "provenance": [],
      "collapsed_sections": [],
      "authorship_tag": "ABX9TyMYR3YFLCIb0xuREXp4wKcp",
      "include_colab_link": true
    },
    "kernelspec": {
      "name": "python3",
      "display_name": "Python 3"
    },
    "language_info": {
      "name": "python"
    },
    "accelerator": "GPU"
  },
  "cells": [
    {
      "cell_type": "markdown",
      "metadata": {
        "id": "view-in-github",
        "colab_type": "text"
      },
      "source": [
        "<a href=\"https://colab.research.google.com/github/SMAntony/deep-learning-tools/blob/main/Lab3_Final.ipynb\" target=\"_parent\"><img src=\"https://colab.research.google.com/assets/colab-badge.svg\" alt=\"Open In Colab\"/></a>"
      ]
    },
    {
      "cell_type": "code",
      "execution_count": null,
      "metadata": {
        "id": "LeF1DYlQ1_CM"
      },
      "outputs": [],
      "source": [
        "import tensorflow as tf\n",
        "import re, string\n",
        "import matplotlib.pyplot as plt\n",
        "import numpy as np\n",
        "import pandas as pd"
      ]
    },
    {
      "cell_type": "code",
      "source": [
        "dataset_url = \"http://archive.ics.uci.edu/ml/machine-learning-databases/00228/smsspamcollection.zip\"\n",
        "\n",
        "dataset_zipped = tf.keras.utils.get_file(\n",
        "  \"text-collections.zip\",\n",
        "  \"http://archive.ics.uci.edu/ml/machine-learning-databases/00228/smsspamcollection.zip\",\n",
        "   extract = True,\n",
        "   cache_dir = '.',)\n",
        "   #cache_subdir = '')\n",
        "\n",
        "# dataset_dir = os.path.join(os.path.dirname(dataset), 'wiki_crop')\n"
      ],
      "metadata": {
        "id": "T3lUEbsl21I1",
        "colab": {
          "base_uri": "https://localhost:8080/"
        },
        "outputId": "4d157928-1127-44d2-b3fb-b82aaaf3ab51"
      },
      "execution_count": null,
      "outputs": [
        {
          "output_type": "stream",
          "name": "stdout",
          "text": [
            "Downloading data from http://archive.ics.uci.edu/ml/machine-learning-databases/00228/smsspamcollection.zip\n",
            "204800/203415 [==============================] - 0s 1us/step\n",
            "212992/203415 [===============================] - 0s 1us/step\n"
          ]
        }
      ]
    },
    {
      "cell_type": "code",
      "source": [
        "dataset_df = pd.read_csv(\"/content/datasets/SMSSpamCollection\",sep=\"\\t\", header=None)\n",
        "dataset_df.head()"
      ],
      "metadata": {
        "id": "puv2eLUP39BZ",
        "colab": {
          "base_uri": "https://localhost:8080/",
          "height": 206
        },
        "outputId": "1a99836c-bfa9-4457-9df7-6667efa9d7ff"
      },
      "execution_count": null,
      "outputs": [
        {
          "output_type": "execute_result",
          "data": {
            "text/plain": [
              "      0                                                  1\n",
              "0   ham  Go until jurong point, crazy.. Available only ...\n",
              "1   ham                      Ok lar... Joking wif u oni...\n",
              "2  spam  Free entry in 2 a wkly comp to win FA Cup fina...\n",
              "3   ham  U dun say so early hor... U c already then say...\n",
              "4   ham  Nah I don't think he goes to usf, he lives aro..."
            ],
            "text/html": [
              "\n",
              "  <div id=\"df-abc7a395-402e-4c57-8f4c-79a9597fd9d3\">\n",
              "    <div class=\"colab-df-container\">\n",
              "      <div>\n",
              "<style scoped>\n",
              "    .dataframe tbody tr th:only-of-type {\n",
              "        vertical-align: middle;\n",
              "    }\n",
              "\n",
              "    .dataframe tbody tr th {\n",
              "        vertical-align: top;\n",
              "    }\n",
              "\n",
              "    .dataframe thead th {\n",
              "        text-align: right;\n",
              "    }\n",
              "</style>\n",
              "<table border=\"1\" class=\"dataframe\">\n",
              "  <thead>\n",
              "    <tr style=\"text-align: right;\">\n",
              "      <th></th>\n",
              "      <th>0</th>\n",
              "      <th>1</th>\n",
              "    </tr>\n",
              "  </thead>\n",
              "  <tbody>\n",
              "    <tr>\n",
              "      <th>0</th>\n",
              "      <td>ham</td>\n",
              "      <td>Go until jurong point, crazy.. Available only ...</td>\n",
              "    </tr>\n",
              "    <tr>\n",
              "      <th>1</th>\n",
              "      <td>ham</td>\n",
              "      <td>Ok lar... Joking wif u oni...</td>\n",
              "    </tr>\n",
              "    <tr>\n",
              "      <th>2</th>\n",
              "      <td>spam</td>\n",
              "      <td>Free entry in 2 a wkly comp to win FA Cup fina...</td>\n",
              "    </tr>\n",
              "    <tr>\n",
              "      <th>3</th>\n",
              "      <td>ham</td>\n",
              "      <td>U dun say so early hor... U c already then say...</td>\n",
              "    </tr>\n",
              "    <tr>\n",
              "      <th>4</th>\n",
              "      <td>ham</td>\n",
              "      <td>Nah I don't think he goes to usf, he lives aro...</td>\n",
              "    </tr>\n",
              "  </tbody>\n",
              "</table>\n",
              "</div>\n",
              "      <button class=\"colab-df-convert\" onclick=\"convertToInteractive('df-abc7a395-402e-4c57-8f4c-79a9597fd9d3')\"\n",
              "              title=\"Convert this dataframe to an interactive table.\"\n",
              "              style=\"display:none;\">\n",
              "        \n",
              "  <svg xmlns=\"http://www.w3.org/2000/svg\" height=\"24px\"viewBox=\"0 0 24 24\"\n",
              "       width=\"24px\">\n",
              "    <path d=\"M0 0h24v24H0V0z\" fill=\"none\"/>\n",
              "    <path d=\"M18.56 5.44l.94 2.06.94-2.06 2.06-.94-2.06-.94-.94-2.06-.94 2.06-2.06.94zm-11 1L8.5 8.5l.94-2.06 2.06-.94-2.06-.94L8.5 2.5l-.94 2.06-2.06.94zm10 10l.94 2.06.94-2.06 2.06-.94-2.06-.94-.94-2.06-.94 2.06-2.06.94z\"/><path d=\"M17.41 7.96l-1.37-1.37c-.4-.4-.92-.59-1.43-.59-.52 0-1.04.2-1.43.59L10.3 9.45l-7.72 7.72c-.78.78-.78 2.05 0 2.83L4 21.41c.39.39.9.59 1.41.59.51 0 1.02-.2 1.41-.59l7.78-7.78 2.81-2.81c.8-.78.8-2.07 0-2.86zM5.41 20L4 18.59l7.72-7.72 1.47 1.35L5.41 20z\"/>\n",
              "  </svg>\n",
              "      </button>\n",
              "      \n",
              "  <style>\n",
              "    .colab-df-container {\n",
              "      display:flex;\n",
              "      flex-wrap:wrap;\n",
              "      gap: 12px;\n",
              "    }\n",
              "\n",
              "    .colab-df-convert {\n",
              "      background-color: #E8F0FE;\n",
              "      border: none;\n",
              "      border-radius: 50%;\n",
              "      cursor: pointer;\n",
              "      display: none;\n",
              "      fill: #1967D2;\n",
              "      height: 32px;\n",
              "      padding: 0 0 0 0;\n",
              "      width: 32px;\n",
              "    }\n",
              "\n",
              "    .colab-df-convert:hover {\n",
              "      background-color: #E2EBFA;\n",
              "      box-shadow: 0px 1px 2px rgba(60, 64, 67, 0.3), 0px 1px 3px 1px rgba(60, 64, 67, 0.15);\n",
              "      fill: #174EA6;\n",
              "    }\n",
              "\n",
              "    [theme=dark] .colab-df-convert {\n",
              "      background-color: #3B4455;\n",
              "      fill: #D2E3FC;\n",
              "    }\n",
              "\n",
              "    [theme=dark] .colab-df-convert:hover {\n",
              "      background-color: #434B5C;\n",
              "      box-shadow: 0px 1px 3px 1px rgba(0, 0, 0, 0.15);\n",
              "      filter: drop-shadow(0px 1px 2px rgba(0, 0, 0, 0.3));\n",
              "      fill: #FFFFFF;\n",
              "    }\n",
              "  </style>\n",
              "\n",
              "      <script>\n",
              "        const buttonEl =\n",
              "          document.querySelector('#df-abc7a395-402e-4c57-8f4c-79a9597fd9d3 button.colab-df-convert');\n",
              "        buttonEl.style.display =\n",
              "          google.colab.kernel.accessAllowed ? 'block' : 'none';\n",
              "\n",
              "        async function convertToInteractive(key) {\n",
              "          const element = document.querySelector('#df-abc7a395-402e-4c57-8f4c-79a9597fd9d3');\n",
              "          const dataTable =\n",
              "            await google.colab.kernel.invokeFunction('convertToInteractive',\n",
              "                                                     [key], {});\n",
              "          if (!dataTable) return;\n",
              "\n",
              "          const docLinkHtml = 'Like what you see? Visit the ' +\n",
              "            '<a target=\"_blank\" href=https://colab.research.google.com/notebooks/data_table.ipynb>data table notebook</a>'\n",
              "            + ' to learn more about interactive tables.';\n",
              "          element.innerHTML = '';\n",
              "          dataTable['output_type'] = 'display_data';\n",
              "          await google.colab.output.renderOutput(dataTable, element);\n",
              "          const docLink = document.createElement('div');\n",
              "          docLink.innerHTML = docLinkHtml;\n",
              "          element.appendChild(docLink);\n",
              "        }\n",
              "      </script>\n",
              "    </div>\n",
              "  </div>\n",
              "  "
            ]
          },
          "metadata": {},
          "execution_count": 4
        }
      ]
    },
    {
      "cell_type": "code",
      "source": [
        "  sum(dataset_df[0]==\"ham\"), sum(dataset_df[0]==\"spam\")"
      ],
      "metadata": {
        "colab": {
          "base_uri": "https://localhost:8080/"
        },
        "id": "y8NySVCh6YPW",
        "outputId": "2b80d2ff-4363-4a1f-c0a3-eaf8eb366994"
      },
      "execution_count": null,
      "outputs": [
        {
          "output_type": "execute_result",
          "data": {
            "text/plain": [
              "(4825, 747)"
            ]
          },
          "metadata": {},
          "execution_count": 5
        }
      ]
    },
    {
      "cell_type": "code",
      "source": [
        "shuffled_df = dataset_df.sample(frac = 1)\n",
        "shuffled_df[0] = np.where(shuffled_df[0] == \"ham\", 0, 1).astype('float32')\n",
        "\n",
        "shuffled_df"
      ],
      "metadata": {
        "colab": {
          "base_uri": "https://localhost:8080/",
          "height": 423
        },
        "id": "USAXx9y98Alv",
        "outputId": "6746bd74-4410-472f-89ad-86388c1cfe99"
      },
      "execution_count": null,
      "outputs": [
        {
          "output_type": "execute_result",
          "data": {
            "text/plain": [
              "        0                                                  1\n",
              "5499  0.0      Now get step 2 outta the way. Congrats again.\n",
              "4201  0.0                            I will come tomorrow di\n",
              "508   0.0  You should know now. So how's anthony. Are you...\n",
              "3036  0.0  Raji..pls do me a favour. Pls convey my Birthd...\n",
              "4042  1.0  Please call our customer service representativ...\n",
              "...   ...                                                ...\n",
              "3957  0.0  Haha... dont be angry with yourself... Take it...\n",
              "848   0.0  I am in office:)whats the matter..msg me now.i...\n",
              "5491  0.0  U studying in sch or going home? Anyway i'll b...\n",
              "3705  0.0             Kent vale lor... Ü wait 4 me there ar?\n",
              "4506  1.0  Mobile Club: Choose any of the top quality ite...\n",
              "\n",
              "[5572 rows x 2 columns]"
            ],
            "text/html": [
              "\n",
              "  <div id=\"df-0f531465-116f-4b82-9f47-95ad64136d3a\">\n",
              "    <div class=\"colab-df-container\">\n",
              "      <div>\n",
              "<style scoped>\n",
              "    .dataframe tbody tr th:only-of-type {\n",
              "        vertical-align: middle;\n",
              "    }\n",
              "\n",
              "    .dataframe tbody tr th {\n",
              "        vertical-align: top;\n",
              "    }\n",
              "\n",
              "    .dataframe thead th {\n",
              "        text-align: right;\n",
              "    }\n",
              "</style>\n",
              "<table border=\"1\" class=\"dataframe\">\n",
              "  <thead>\n",
              "    <tr style=\"text-align: right;\">\n",
              "      <th></th>\n",
              "      <th>0</th>\n",
              "      <th>1</th>\n",
              "    </tr>\n",
              "  </thead>\n",
              "  <tbody>\n",
              "    <tr>\n",
              "      <th>5499</th>\n",
              "      <td>0.0</td>\n",
              "      <td>Now get step 2 outta the way. Congrats again.</td>\n",
              "    </tr>\n",
              "    <tr>\n",
              "      <th>4201</th>\n",
              "      <td>0.0</td>\n",
              "      <td>I will come tomorrow di</td>\n",
              "    </tr>\n",
              "    <tr>\n",
              "      <th>508</th>\n",
              "      <td>0.0</td>\n",
              "      <td>You should know now. So how's anthony. Are you...</td>\n",
              "    </tr>\n",
              "    <tr>\n",
              "      <th>3036</th>\n",
              "      <td>0.0</td>\n",
              "      <td>Raji..pls do me a favour. Pls convey my Birthd...</td>\n",
              "    </tr>\n",
              "    <tr>\n",
              "      <th>4042</th>\n",
              "      <td>1.0</td>\n",
              "      <td>Please call our customer service representativ...</td>\n",
              "    </tr>\n",
              "    <tr>\n",
              "      <th>...</th>\n",
              "      <td>...</td>\n",
              "      <td>...</td>\n",
              "    </tr>\n",
              "    <tr>\n",
              "      <th>3957</th>\n",
              "      <td>0.0</td>\n",
              "      <td>Haha... dont be angry with yourself... Take it...</td>\n",
              "    </tr>\n",
              "    <tr>\n",
              "      <th>848</th>\n",
              "      <td>0.0</td>\n",
              "      <td>I am in office:)whats the matter..msg me now.i...</td>\n",
              "    </tr>\n",
              "    <tr>\n",
              "      <th>5491</th>\n",
              "      <td>0.0</td>\n",
              "      <td>U studying in sch or going home? Anyway i'll b...</td>\n",
              "    </tr>\n",
              "    <tr>\n",
              "      <th>3705</th>\n",
              "      <td>0.0</td>\n",
              "      <td>Kent vale lor... Ü wait 4 me there ar?</td>\n",
              "    </tr>\n",
              "    <tr>\n",
              "      <th>4506</th>\n",
              "      <td>1.0</td>\n",
              "      <td>Mobile Club: Choose any of the top quality ite...</td>\n",
              "    </tr>\n",
              "  </tbody>\n",
              "</table>\n",
              "<p>5572 rows × 2 columns</p>\n",
              "</div>\n",
              "      <button class=\"colab-df-convert\" onclick=\"convertToInteractive('df-0f531465-116f-4b82-9f47-95ad64136d3a')\"\n",
              "              title=\"Convert this dataframe to an interactive table.\"\n",
              "              style=\"display:none;\">\n",
              "        \n",
              "  <svg xmlns=\"http://www.w3.org/2000/svg\" height=\"24px\"viewBox=\"0 0 24 24\"\n",
              "       width=\"24px\">\n",
              "    <path d=\"M0 0h24v24H0V0z\" fill=\"none\"/>\n",
              "    <path d=\"M18.56 5.44l.94 2.06.94-2.06 2.06-.94-2.06-.94-.94-2.06-.94 2.06-2.06.94zm-11 1L8.5 8.5l.94-2.06 2.06-.94-2.06-.94L8.5 2.5l-.94 2.06-2.06.94zm10 10l.94 2.06.94-2.06 2.06-.94-2.06-.94-.94-2.06-.94 2.06-2.06.94z\"/><path d=\"M17.41 7.96l-1.37-1.37c-.4-.4-.92-.59-1.43-.59-.52 0-1.04.2-1.43.59L10.3 9.45l-7.72 7.72c-.78.78-.78 2.05 0 2.83L4 21.41c.39.39.9.59 1.41.59.51 0 1.02-.2 1.41-.59l7.78-7.78 2.81-2.81c.8-.78.8-2.07 0-2.86zM5.41 20L4 18.59l7.72-7.72 1.47 1.35L5.41 20z\"/>\n",
              "  </svg>\n",
              "      </button>\n",
              "      \n",
              "  <style>\n",
              "    .colab-df-container {\n",
              "      display:flex;\n",
              "      flex-wrap:wrap;\n",
              "      gap: 12px;\n",
              "    }\n",
              "\n",
              "    .colab-df-convert {\n",
              "      background-color: #E8F0FE;\n",
              "      border: none;\n",
              "      border-radius: 50%;\n",
              "      cursor: pointer;\n",
              "      display: none;\n",
              "      fill: #1967D2;\n",
              "      height: 32px;\n",
              "      padding: 0 0 0 0;\n",
              "      width: 32px;\n",
              "    }\n",
              "\n",
              "    .colab-df-convert:hover {\n",
              "      background-color: #E2EBFA;\n",
              "      box-shadow: 0px 1px 2px rgba(60, 64, 67, 0.3), 0px 1px 3px 1px rgba(60, 64, 67, 0.15);\n",
              "      fill: #174EA6;\n",
              "    }\n",
              "\n",
              "    [theme=dark] .colab-df-convert {\n",
              "      background-color: #3B4455;\n",
              "      fill: #D2E3FC;\n",
              "    }\n",
              "\n",
              "    [theme=dark] .colab-df-convert:hover {\n",
              "      background-color: #434B5C;\n",
              "      box-shadow: 0px 1px 3px 1px rgba(0, 0, 0, 0.15);\n",
              "      filter: drop-shadow(0px 1px 2px rgba(0, 0, 0, 0.3));\n",
              "      fill: #FFFFFF;\n",
              "    }\n",
              "  </style>\n",
              "\n",
              "      <script>\n",
              "        const buttonEl =\n",
              "          document.querySelector('#df-0f531465-116f-4b82-9f47-95ad64136d3a button.colab-df-convert');\n",
              "        buttonEl.style.display =\n",
              "          google.colab.kernel.accessAllowed ? 'block' : 'none';\n",
              "\n",
              "        async function convertToInteractive(key) {\n",
              "          const element = document.querySelector('#df-0f531465-116f-4b82-9f47-95ad64136d3a');\n",
              "          const dataTable =\n",
              "            await google.colab.kernel.invokeFunction('convertToInteractive',\n",
              "                                                     [key], {});\n",
              "          if (!dataTable) return;\n",
              "\n",
              "          const docLinkHtml = 'Like what you see? Visit the ' +\n",
              "            '<a target=\"_blank\" href=https://colab.research.google.com/notebooks/data_table.ipynb>data table notebook</a>'\n",
              "            + ' to learn more about interactive tables.';\n",
              "          element.innerHTML = '';\n",
              "          dataTable['output_type'] = 'display_data';\n",
              "          await google.colab.output.renderOutput(dataTable, element);\n",
              "          const docLink = document.createElement('div');\n",
              "          docLink.innerHTML = docLinkHtml;\n",
              "          element.appendChild(docLink);\n",
              "        }\n",
              "      </script>\n",
              "    </div>\n",
              "  </div>\n",
              "  "
            ]
          },
          "metadata": {},
          "execution_count": 6
        }
      ]
    },
    {
      "cell_type": "code",
      "source": [
        "train,test,val=np.split(shuffled_df,[int(0.8*len(shuffled_df)), int(0.9*len(shuffled_df))])"
      ],
      "metadata": {
        "id": "4qH_29Vn8HI9"
      },
      "execution_count": null,
      "outputs": []
    },
    {
      "cell_type": "code",
      "source": [
        "train"
      ],
      "metadata": {
        "colab": {
          "base_uri": "https://localhost:8080/",
          "height": 423
        },
        "id": "KXzW_c9BFnyg",
        "outputId": "d58f2833-2c23-40ed-99f6-982236b67912"
      },
      "execution_count": null,
      "outputs": [
        {
          "output_type": "execute_result",
          "data": {
            "text/plain": [
              "        0                                                  1\n",
              "5499  0.0      Now get step 2 outta the way. Congrats again.\n",
              "4201  0.0                            I will come tomorrow di\n",
              "508   0.0  You should know now. So how's anthony. Are you...\n",
              "3036  0.0  Raji..pls do me a favour. Pls convey my Birthd...\n",
              "4042  1.0  Please call our customer service representativ...\n",
              "...   ...                                                ...\n",
              "4180  0.0                 Can ü send me a copy of da report?\n",
              "62    0.0                          Its a part of checking IQ\n",
              "1280  0.0  Waiting 4 my tv show 2 start lor... U leh stil...\n",
              "5339  0.0                You'd like that wouldn't you? Jerk!\n",
              "338   0.0                         Just sleeping..and surfing\n",
              "\n",
              "[4457 rows x 2 columns]"
            ],
            "text/html": [
              "\n",
              "  <div id=\"df-246a690c-076b-4b59-bbed-7b763cd4077f\">\n",
              "    <div class=\"colab-df-container\">\n",
              "      <div>\n",
              "<style scoped>\n",
              "    .dataframe tbody tr th:only-of-type {\n",
              "        vertical-align: middle;\n",
              "    }\n",
              "\n",
              "    .dataframe tbody tr th {\n",
              "        vertical-align: top;\n",
              "    }\n",
              "\n",
              "    .dataframe thead th {\n",
              "        text-align: right;\n",
              "    }\n",
              "</style>\n",
              "<table border=\"1\" class=\"dataframe\">\n",
              "  <thead>\n",
              "    <tr style=\"text-align: right;\">\n",
              "      <th></th>\n",
              "      <th>0</th>\n",
              "      <th>1</th>\n",
              "    </tr>\n",
              "  </thead>\n",
              "  <tbody>\n",
              "    <tr>\n",
              "      <th>5499</th>\n",
              "      <td>0.0</td>\n",
              "      <td>Now get step 2 outta the way. Congrats again.</td>\n",
              "    </tr>\n",
              "    <tr>\n",
              "      <th>4201</th>\n",
              "      <td>0.0</td>\n",
              "      <td>I will come tomorrow di</td>\n",
              "    </tr>\n",
              "    <tr>\n",
              "      <th>508</th>\n",
              "      <td>0.0</td>\n",
              "      <td>You should know now. So how's anthony. Are you...</td>\n",
              "    </tr>\n",
              "    <tr>\n",
              "      <th>3036</th>\n",
              "      <td>0.0</td>\n",
              "      <td>Raji..pls do me a favour. Pls convey my Birthd...</td>\n",
              "    </tr>\n",
              "    <tr>\n",
              "      <th>4042</th>\n",
              "      <td>1.0</td>\n",
              "      <td>Please call our customer service representativ...</td>\n",
              "    </tr>\n",
              "    <tr>\n",
              "      <th>...</th>\n",
              "      <td>...</td>\n",
              "      <td>...</td>\n",
              "    </tr>\n",
              "    <tr>\n",
              "      <th>4180</th>\n",
              "      <td>0.0</td>\n",
              "      <td>Can ü send me a copy of da report?</td>\n",
              "    </tr>\n",
              "    <tr>\n",
              "      <th>62</th>\n",
              "      <td>0.0</td>\n",
              "      <td>Its a part of checking IQ</td>\n",
              "    </tr>\n",
              "    <tr>\n",
              "      <th>1280</th>\n",
              "      <td>0.0</td>\n",
              "      <td>Waiting 4 my tv show 2 start lor... U leh stil...</td>\n",
              "    </tr>\n",
              "    <tr>\n",
              "      <th>5339</th>\n",
              "      <td>0.0</td>\n",
              "      <td>You'd like that wouldn't you? Jerk!</td>\n",
              "    </tr>\n",
              "    <tr>\n",
              "      <th>338</th>\n",
              "      <td>0.0</td>\n",
              "      <td>Just sleeping..and surfing</td>\n",
              "    </tr>\n",
              "  </tbody>\n",
              "</table>\n",
              "<p>4457 rows × 2 columns</p>\n",
              "</div>\n",
              "      <button class=\"colab-df-convert\" onclick=\"convertToInteractive('df-246a690c-076b-4b59-bbed-7b763cd4077f')\"\n",
              "              title=\"Convert this dataframe to an interactive table.\"\n",
              "              style=\"display:none;\">\n",
              "        \n",
              "  <svg xmlns=\"http://www.w3.org/2000/svg\" height=\"24px\"viewBox=\"0 0 24 24\"\n",
              "       width=\"24px\">\n",
              "    <path d=\"M0 0h24v24H0V0z\" fill=\"none\"/>\n",
              "    <path d=\"M18.56 5.44l.94 2.06.94-2.06 2.06-.94-2.06-.94-.94-2.06-.94 2.06-2.06.94zm-11 1L8.5 8.5l.94-2.06 2.06-.94-2.06-.94L8.5 2.5l-.94 2.06-2.06.94zm10 10l.94 2.06.94-2.06 2.06-.94-2.06-.94-.94-2.06-.94 2.06-2.06.94z\"/><path d=\"M17.41 7.96l-1.37-1.37c-.4-.4-.92-.59-1.43-.59-.52 0-1.04.2-1.43.59L10.3 9.45l-7.72 7.72c-.78.78-.78 2.05 0 2.83L4 21.41c.39.39.9.59 1.41.59.51 0 1.02-.2 1.41-.59l7.78-7.78 2.81-2.81c.8-.78.8-2.07 0-2.86zM5.41 20L4 18.59l7.72-7.72 1.47 1.35L5.41 20z\"/>\n",
              "  </svg>\n",
              "      </button>\n",
              "      \n",
              "  <style>\n",
              "    .colab-df-container {\n",
              "      display:flex;\n",
              "      flex-wrap:wrap;\n",
              "      gap: 12px;\n",
              "    }\n",
              "\n",
              "    .colab-df-convert {\n",
              "      background-color: #E8F0FE;\n",
              "      border: none;\n",
              "      border-radius: 50%;\n",
              "      cursor: pointer;\n",
              "      display: none;\n",
              "      fill: #1967D2;\n",
              "      height: 32px;\n",
              "      padding: 0 0 0 0;\n",
              "      width: 32px;\n",
              "    }\n",
              "\n",
              "    .colab-df-convert:hover {\n",
              "      background-color: #E2EBFA;\n",
              "      box-shadow: 0px 1px 2px rgba(60, 64, 67, 0.3), 0px 1px 3px 1px rgba(60, 64, 67, 0.15);\n",
              "      fill: #174EA6;\n",
              "    }\n",
              "\n",
              "    [theme=dark] .colab-df-convert {\n",
              "      background-color: #3B4455;\n",
              "      fill: #D2E3FC;\n",
              "    }\n",
              "\n",
              "    [theme=dark] .colab-df-convert:hover {\n",
              "      background-color: #434B5C;\n",
              "      box-shadow: 0px 1px 3px 1px rgba(0, 0, 0, 0.15);\n",
              "      filter: drop-shadow(0px 1px 2px rgba(0, 0, 0, 0.3));\n",
              "      fill: #FFFFFF;\n",
              "    }\n",
              "  </style>\n",
              "\n",
              "      <script>\n",
              "        const buttonEl =\n",
              "          document.querySelector('#df-246a690c-076b-4b59-bbed-7b763cd4077f button.colab-df-convert');\n",
              "        buttonEl.style.display =\n",
              "          google.colab.kernel.accessAllowed ? 'block' : 'none';\n",
              "\n",
              "        async function convertToInteractive(key) {\n",
              "          const element = document.querySelector('#df-246a690c-076b-4b59-bbed-7b763cd4077f');\n",
              "          const dataTable =\n",
              "            await google.colab.kernel.invokeFunction('convertToInteractive',\n",
              "                                                     [key], {});\n",
              "          if (!dataTable) return;\n",
              "\n",
              "          const docLinkHtml = 'Like what you see? Visit the ' +\n",
              "            '<a target=\"_blank\" href=https://colab.research.google.com/notebooks/data_table.ipynb>data table notebook</a>'\n",
              "            + ' to learn more about interactive tables.';\n",
              "          element.innerHTML = '';\n",
              "          dataTable['output_type'] = 'display_data';\n",
              "          await google.colab.output.renderOutput(dataTable, element);\n",
              "          const docLink = document.createElement('div');\n",
              "          docLink.innerHTML = docLinkHtml;\n",
              "          element.appendChild(docLink);\n",
              "        }\n",
              "      </script>\n",
              "    </div>\n",
              "  </div>\n",
              "  "
            ]
          },
          "metadata": {},
          "execution_count": 8
        }
      ]
    },
    {
      "cell_type": "code",
      "source": [
        "train_ds = tf.data.Dataset.from_tensor_slices((train[1],train[0])).batch(64)\n",
        "test_ds = tf.data.Dataset.from_tensor_slices((test[1],test[0])).batch(64)\n",
        "val_ds = tf.data.Dataset.from_tensor_slices((val[1],val[0])).batch(64)"
      ],
      "metadata": {
        "id": "9SZbF5i-E2OH"
      },
      "execution_count": null,
      "outputs": []
    },
    {
      "cell_type": "code",
      "source": [
        "def custom_standardization(input_data):\n",
        "    lowercase = tf.strings.lower(input_data)\n",
        "    stripped_html = tf.strings.regex_replace(lowercase, ' \\d+', ' ')\n",
        "    return tf.strings.regex_replace(\n",
        "        stripped_html,\n",
        "        f'[{re.escape(string.punctuation)}]',\n",
        "        ''\n",
        "    )"
      ],
      "metadata": {
        "id": "GTxUMUTDLuC3"
      },
      "execution_count": null,
      "outputs": []
    },
    {
      "cell_type": "code",
      "source": [
        "max_features = 10000\n",
        "sequence_length = 250\n",
        "\n",
        "vectorize_layer = tf.keras.layers.TextVectorization(\n",
        "    standardize=custom_standardization,\n",
        "    max_tokens=max_features,\n",
        "    output_mode='int',\n",
        "    output_sequence_length=sequence_length)\n",
        "vectorize_layer.adapt(train_ds.map(lambda x, y: x))"
      ],
      "metadata": {
        "id": "hXukSm4DN-vC"
      },
      "execution_count": null,
      "outputs": []
    },
    {
      "cell_type": "code",
      "source": [
        "model = tf.keras.Sequential([\n",
        "    vectorize_layer,\n",
        "    tf.keras.layers.Embedding(\n",
        "        input_dim=len(vectorize_layer.get_vocabulary()),\n",
        "        output_dim=32,\n",
        "        mask_zero=True),\n",
        "    tf.keras.layers.Bidirectional(tf.keras.layers.LSTM(32,return_sequences=True)),\n",
        "    tf.keras.layers.Bidirectional(tf.keras.layers.LSTM(16)),\n",
        "    tf.keras.layers.Dense(32, activation='relu'),\n",
        "    tf.keras.layers.Dense(1)\n",
        "])\n",
        "\n"
      ],
      "metadata": {
        "id": "uQCfz5fDOBRl"
      },
      "execution_count": null,
      "outputs": []
    },
    {
      "cell_type": "code",
      "source": [
        "model.compile(loss=tf.keras.losses.BinaryCrossentropy(from_logits=True),\n",
        "              optimizer=tf.keras.optimizers.Adam(1e-4),\n",
        "              metrics=['accuracy'])\n",
        "\n",
        "model.summary()"
      ],
      "metadata": {
        "colab": {
          "base_uri": "https://localhost:8080/"
        },
        "id": "Hb7uGaXwOkw_",
        "outputId": "98dcfbfd-9dc7-4f94-9300-fa370a814627"
      },
      "execution_count": null,
      "outputs": [
        {
          "output_type": "stream",
          "name": "stdout",
          "text": [
            "Model: \"sequential\"\n",
            "_________________________________________________________________\n",
            " Layer (type)                Output Shape              Param #   \n",
            "=================================================================\n",
            " text_vectorization (TextVec  (None, 250)              0         \n",
            " torization)                                                     \n",
            "                                                                 \n",
            " embedding (Embedding)       (None, 250, 32)           253792    \n",
            "                                                                 \n",
            " bidirectional (Bidirectiona  (None, 250, 64)          16640     \n",
            " l)                                                              \n",
            "                                                                 \n",
            " bidirectional_1 (Bidirectio  (None, 32)               10368     \n",
            " nal)                                                            \n",
            "                                                                 \n",
            " dense (Dense)               (None, 32)                1056      \n",
            "                                                                 \n",
            " dense_1 (Dense)             (None, 1)                 33        \n",
            "                                                                 \n",
            "=================================================================\n",
            "Total params: 281,889\n",
            "Trainable params: 281,889\n",
            "Non-trainable params: 0\n",
            "_________________________________________________________________\n"
          ]
        }
      ]
    },
    {
      "cell_type": "code",
      "source": [
        "history = model.fit(train_ds, epochs=30, validation_data=val_ds)"
      ],
      "metadata": {
        "colab": {
          "base_uri": "https://localhost:8080/"
        },
        "id": "G94pORuWO0mi",
        "outputId": "d329b710-c34d-42ce-ee66-8fd1420aa6dd"
      },
      "execution_count": null,
      "outputs": [
        {
          "output_type": "stream",
          "name": "stdout",
          "text": [
            "Epoch 1/30\n",
            "70/70 [==============================] - 35s 162ms/step - loss: 0.6669 - accuracy: 0.8629 - val_loss: 0.6257 - val_accuracy: 0.8674\n",
            "Epoch 2/30\n",
            "70/70 [==============================] - 6s 87ms/step - loss: 0.5558 - accuracy: 0.8629 - val_loss: 0.4864 - val_accuracy: 0.8674\n",
            "Epoch 3/30\n",
            "70/70 [==============================] - 6s 87ms/step - loss: 0.4348 - accuracy: 0.8629 - val_loss: 0.3780 - val_accuracy: 0.8674\n",
            "Epoch 4/30\n",
            "70/70 [==============================] - 6s 87ms/step - loss: 0.2962 - accuracy: 0.8629 - val_loss: 0.2429 - val_accuracy: 0.8674\n",
            "Epoch 5/30\n",
            "70/70 [==============================] - 8s 116ms/step - loss: 0.1849 - accuracy: 0.9024 - val_loss: 0.1624 - val_accuracy: 0.9588\n",
            "Epoch 6/30\n",
            "70/70 [==============================] - 6s 87ms/step - loss: 0.1167 - accuracy: 0.9809 - val_loss: 0.1299 - val_accuracy: 0.9785\n",
            "Epoch 7/30\n",
            "70/70 [==============================] - 6s 87ms/step - loss: 0.0773 - accuracy: 0.9872 - val_loss: 0.1135 - val_accuracy: 0.9821\n",
            "Epoch 8/30\n",
            "70/70 [==============================] - 6s 87ms/step - loss: 0.0546 - accuracy: 0.9912 - val_loss: 0.1070 - val_accuracy: 0.9821\n",
            "Epoch 9/30\n",
            "70/70 [==============================] - 7s 94ms/step - loss: 0.0417 - accuracy: 0.9939 - val_loss: 0.1031 - val_accuracy: 0.9821\n",
            "Epoch 10/30\n",
            "70/70 [==============================] - 7s 98ms/step - loss: 0.0336 - accuracy: 0.9948 - val_loss: 0.0960 - val_accuracy: 0.9839\n",
            "Epoch 11/30\n",
            "70/70 [==============================] - 6s 87ms/step - loss: 0.0274 - accuracy: 0.9960 - val_loss: 0.0915 - val_accuracy: 0.9839\n",
            "Epoch 12/30\n",
            "70/70 [==============================] - 6s 87ms/step - loss: 0.0225 - accuracy: 0.9971 - val_loss: 0.0905 - val_accuracy: 0.9821\n",
            "Epoch 13/30\n",
            "70/70 [==============================] - 6s 87ms/step - loss: 0.0197 - accuracy: 0.9978 - val_loss: 0.0893 - val_accuracy: 0.9821\n",
            "Epoch 14/30\n",
            "70/70 [==============================] - 6s 88ms/step - loss: 0.0174 - accuracy: 0.9978 - val_loss: 0.0884 - val_accuracy: 0.9839\n",
            "Epoch 15/30\n",
            "70/70 [==============================] - 6s 87ms/step - loss: 0.0152 - accuracy: 0.9978 - val_loss: 0.0904 - val_accuracy: 0.9803\n",
            "Epoch 16/30\n",
            "70/70 [==============================] - 6s 86ms/step - loss: 0.0130 - accuracy: 0.9980 - val_loss: 0.0920 - val_accuracy: 0.9803\n",
            "Epoch 17/30\n",
            "70/70 [==============================] - 6s 89ms/step - loss: 0.0112 - accuracy: 0.9984 - val_loss: 0.0925 - val_accuracy: 0.9821\n",
            "Epoch 18/30\n",
            "70/70 [==============================] - 6s 87ms/step - loss: 0.0098 - accuracy: 0.9987 - val_loss: 0.0973 - val_accuracy: 0.9821\n",
            "Epoch 19/30\n",
            "70/70 [==============================] - 6s 87ms/step - loss: 0.0084 - accuracy: 0.9991 - val_loss: 0.1003 - val_accuracy: 0.9821\n",
            "Epoch 20/30\n",
            "70/70 [==============================] - 6s 88ms/step - loss: 0.0078 - accuracy: 0.9991 - val_loss: 0.1035 - val_accuracy: 0.9803\n",
            "Epoch 21/30\n",
            "70/70 [==============================] - 6s 87ms/step - loss: 0.0073 - accuracy: 0.9991 - val_loss: 0.1063 - val_accuracy: 0.9803\n",
            "Epoch 22/30\n",
            "70/70 [==============================] - 6s 88ms/step - loss: 0.0069 - accuracy: 0.9991 - val_loss: 0.1089 - val_accuracy: 0.9803\n",
            "Epoch 23/30\n",
            "70/70 [==============================] - 6s 88ms/step - loss: 0.0065 - accuracy: 0.9991 - val_loss: 0.1112 - val_accuracy: 0.9803\n",
            "Epoch 24/30\n",
            "70/70 [==============================] - 6s 88ms/step - loss: 0.0062 - accuracy: 0.9991 - val_loss: 0.1133 - val_accuracy: 0.9803\n",
            "Epoch 25/30\n",
            "70/70 [==============================] - 6s 87ms/step - loss: 0.0058 - accuracy: 0.9991 - val_loss: 0.1153 - val_accuracy: 0.9803\n",
            "Epoch 26/30\n",
            "70/70 [==============================] - 6s 86ms/step - loss: 0.0056 - accuracy: 0.9991 - val_loss: 0.1172 - val_accuracy: 0.9803\n",
            "Epoch 27/30\n",
            "70/70 [==============================] - 6s 89ms/step - loss: 0.0053 - accuracy: 0.9993 - val_loss: 0.1190 - val_accuracy: 0.9803\n",
            "Epoch 28/30\n",
            "70/70 [==============================] - 6s 87ms/step - loss: 0.0050 - accuracy: 0.9993 - val_loss: 0.1207 - val_accuracy: 0.9803\n",
            "Epoch 29/30\n",
            "70/70 [==============================] - 6s 88ms/step - loss: 0.0048 - accuracy: 0.9993 - val_loss: 0.1225 - val_accuracy: 0.9803\n",
            "Epoch 30/30\n",
            "70/70 [==============================] - 6s 88ms/step - loss: 0.0044 - accuracy: 0.9993 - val_loss: 0.1243 - val_accuracy: 0.9803\n"
          ]
        }
      ]
    },
    {
      "cell_type": "code",
      "source": [
        "history = history.history\n",
        "\n",
        "plt.figure(figsize=(15,5))\n",
        "plt.subplot(121)\n",
        "plt.title(\"Accuracy\")\n",
        "plt.plot(history[\"accuracy\"],label=\"train acc\")\n",
        "plt.plot(history[\"val_accuracy\"],label=\"val acc\")\n",
        "plt.legend()\n",
        "\n",
        "plt.subplot(122)\n",
        "plt.title(\"Loss\")\n",
        "plt.plot(history[\"loss\"],label=\"train loss\")\n",
        "plt.plot(history[\"val_loss\"],label=\"val loss\")\n",
        "plt.legend()\n",
        "\n",
        "plt.show()"
      ],
      "metadata": {
        "colab": {
          "base_uri": "https://localhost:8080/",
          "height": 336
        },
        "id": "FtoELg0bO47Q",
        "outputId": "dd7f3dd0-8f9c-4668-db05-ef425293921d"
      },
      "execution_count": null,
      "outputs": [
        {
          "output_type": "display_data",
          "data": {
            "text/plain": [
              "<Figure size 1080x360 with 2 Axes>"
            ],
            "image/png": "[encoded data removed]"
          },
          "metadata": {
            "needs_background": "light"
          }
        }
      ]
    },
    {
      "cell_type": "code",
      "source": [
        "loss ,accuracy = model.evaluate(test_ds)\n",
        "\n",
        "print(\"Loss: \", loss)\n",
        "print(\"Accuracy: \", accuracy)"
      ],
      "metadata": {
        "colab": {
          "base_uri": "https://localhost:8080/"
        },
        "id": "u-eHv-OrSsBj",
        "outputId": "d25a1bd6-7a3f-45c7-b1b8-a38ee71dfd61"
      },
      "execution_count": null,
      "outputs": [
        {
          "output_type": "stream",
          "name": "stdout",
          "text": [
            "9/9 [==============================] - 0s 23ms/step - loss: 0.1021 - accuracy: 0.9820\n",
            "Loss:  0.10212253779172897\n",
            "Accuracy:  0.9820466637611389\n"
          ]
        }
      ]
    },
    {
      "cell_type": "code",
      "source": [
        ""
      ],
      "metadata": {
        "id": "q2L69Y52UMHa"
      },
      "execution_count": null,
      "outputs": []
    }
  ]
}